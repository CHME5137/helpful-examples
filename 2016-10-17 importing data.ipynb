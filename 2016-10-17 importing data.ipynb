{
 "cells": [
  {
   "cell_type": "markdown",
   "metadata": {},
   "source": [
    "# Importing Data\n",
    "## csv"
   ]
  },
  {
   "cell_type": "code",
   "execution_count": 10,
   "metadata": {
    "collapsed": true
   },
   "outputs": [],
   "source": [
    "import csv"
   ]
  },
  {
   "cell_type": "code",
   "execution_count": 2,
   "metadata": {
    "collapsed": false,
    "scrolled": true
   },
   "outputs": [
    {
     "name": "stdout",
     "output_type": "stream",
     "text": [
      "['x', 'y', 'animal']\n",
      "['0.974082283', '1.333440836', 'cat']\n",
      "['0.890050091', '1.051842345', 'dog']\n",
      "['0.822532957', '1.079770547', 'fish']\n",
      "['0.058089266', '0.531189217', 'fish']\n",
      "['0.980640277', '1.883998004', 'dog']\n",
      "['0.539018976', '0.721938256', 'cat']\n",
      "['0.629848177', '0.934208528', 'cat']\n",
      "['0.716031219', '0.972836633', 'dog']\n",
      "['0.616440841', '0.897908791', 'fish']\n",
      "['0.112504836', '0.942450947', 'fish']\n",
      "['0.906463368', '1.674266372', 'dog']\n",
      "['0.197669111', '0.792222351', 'cat']\n",
      "['0.498406234', '0.641038937', 'cat']\n",
      "['0.091239091', '0.484448662', 'dog']\n",
      "['0.985686809', '1.731222366', 'fish']\n",
      "['0.813023596', '1.137923508', 'fish']\n",
      "['0.647719176', '1.057624905', 'dog']\n",
      "['0.48698302', '0.569772203', 'cat']\n",
      "['0.05136739', '0.063085534', 'cat']\n",
      "['0.132374976', '1.109479011', 'cat']\n",
      "['0.571479187', '1.449795706', 'cat']\n",
      "['0.551432383', '1.062249431', 'dog']\n",
      "['0.177679641', '0.460985433', 'fish']\n",
      "['0.759794708', '1.449342841', 'fish']\n",
      "['0.922481032', '1.607051575', 'dog']\n",
      "['0.182840798', '0.584069595', 'cat']\n",
      "['0.306580021', '0.569039679', 'cat']\n",
      "['0.794310401', '1.369285754', 'cat']\n",
      "['0.087018563', '0.490547872', 'cat']\n",
      "['0.460461739', '0.483419932', 'dog']\n",
      "['0.986187047', '1.785608576', 'fish']\n",
      "['0.029008364', '0.530517124', 'fish']\n",
      "['0.035872927', '0.883567738', 'dog']\n",
      "['0.699694719', '1.495314111', 'cat']\n",
      "['0.121979503', '0.812565743', 'cat']\n",
      "['0.611814767', '1.279247598', 'cat']\n",
      "['0.181784489', '0.53419383', 'cat']\n",
      "['0.243370739', '0.965222763', 'dog']\n",
      "['0.620308468', '1.282882389', 'fish']\n",
      "['0.059749283', '0.406276422', 'fish']\n",
      "['0.388738282', '1.131591164', 'dog']\n",
      "['0.133130552', '0.475451289', 'cat']\n",
      "['0.269528204', '0.506358049', 'cat']\n",
      "['0.833738287', '1.509289726', 'cat']\n",
      "['0.596779549', '0.838757001', 'cat']\n",
      "['0.943947013', '1.287914597', 'dog']\n",
      "['0.103107567', '0.943340126', 'fish']\n",
      "['0.994614946', '1.401947714', 'fish']\n",
      "['0.899819456', '1.021192755', 'dog']\n",
      "['0.693217019', '1.494547306', 'cat']\n",
      "['0.108827877', '0.949664486', 'cat']\n",
      "['0.437908534', '1.223750549', 'cat']\n",
      "['0.320699823', '0.35132885', 'cat']\n",
      "['0.443466862', '0.89316973', 'dog']\n",
      "['0.046261386', '0.398163763', 'fish']\n",
      "['0.622546661', '1.44365713', 'fish']\n",
      "['0.231230447', '1.113742984', 'dog']\n",
      "['0.624794122', '0.718807343', 'cat']\n",
      "['0.977820519', '1.342924673', 'cat']\n",
      "['0.327162971', '0.786899546', 'cat']\n",
      "['0.761285267', '1.316981045', 'cat']\n",
      "['0.68660404', '0.831590901', 'dog']\n",
      "['0.706513891', '1.379184395', 'fish']\n",
      "['0.909676636', '1.032982884', 'fish']\n",
      "['0.666353655', '1.356371376', 'dog']\n",
      "['0.077764214', '0.63164808', 'cat']\n",
      "['0.284463902', '0.365750152', 'cat']\n"
     ]
    }
   ],
   "source": [
    "with open('example.csv') as my_file:\n",
    "    my_reader = csv.reader(my_file)\n",
    "    for row in my_reader:\n",
    "        print(row)"
   ]
  },
  {
   "cell_type": "code",
   "execution_count": 11,
   "metadata": {
    "collapsed": false
   },
   "outputs": [
    {
     "data": {
      "text/plain": [
       "array(['0.974082283', '0.890050091', '0.822532957', '0.058089266',\n",
       "       '0.980640277', '0.539018976', '0.629848177', '0.716031219',\n",
       "       '0.616440841', '0.112504836', '0.906463368', '0.197669111',\n",
       "       '0.498406234', '0.091239091', '0.985686809', '0.813023596',\n",
       "       '0.647719176', '0.48698302', '0.05136739', '0.132374976',\n",
       "       '0.571479187', '0.551432383', '0.177679641', '0.759794708',\n",
       "       '0.922481032', '0.182840798', '0.306580021', '0.794310401',\n",
       "       '0.087018563', '0.460461739', '0.986187047', '0.029008364',\n",
       "       '0.035872927', '0.699694719', '0.121979503', '0.611814767',\n",
       "       '0.181784489', '0.243370739', '0.620308468', '0.059749283',\n",
       "       '0.388738282', '0.133130552', '0.269528204', '0.833738287',\n",
       "       '0.596779549', '0.943947013', '0.103107567', '0.994614946',\n",
       "       '0.899819456', '0.693217019', '0.108827877', '0.437908534',\n",
       "       '0.320699823', '0.443466862', '0.046261386', '0.622546661',\n",
       "       '0.231230447', '0.624794122', '0.977820519', '0.327162971',\n",
       "       '0.761285267', '0.68660404', '0.706513891', '0.909676636',\n",
       "       '0.666353655', '0.077764214', '0.284463902'], \n",
       "      dtype='<U11')"
      ]
     },
     "execution_count": 11,
     "metadata": {},
     "output_type": "execute_result"
    }
   ],
   "source": [
    "import numpy\n",
    "x = []\n",
    "y = []\n",
    "with open('example.csv') as my_file:\n",
    "    my_reader = csv.reader(my_file)\n",
    "    for row in my_reader:\n",
    "        x.append(row[0])\n",
    "        y.append(row[1])\n",
    "x.pop(0) # remove the first item, which is 'x'\n",
    "y.pop(0)\n",
    "x = numpy.array(x)\n",
    "y = numpy.array(y)\n",
    "x"
   ]
  },
  {
   "cell_type": "code",
   "execution_count": 4,
   "metadata": {
    "collapsed": false
   },
   "outputs": [
    {
     "data": {
      "text/plain": [
       "[<matplotlib.lines.Line2D at 0x10d189208>]"
      ]
     },
     "execution_count": 4,
     "metadata": {},
     "output_type": "execute_result"
    },
    {
     "data": {
      "image/png": "[encoded data removed]",
      "text/plain": [
       "<matplotlib.figure.Figure at 0x104a374a8>"
      ]
     },
     "metadata": {},
     "output_type": "display_data"
    }
   ],
   "source": [
    "from matplotlib import pyplot as plt\n",
    "%matplotlib inline\n",
    "plt.plot(x,y,'.')"
   ]
  },
  {
   "cell_type": "markdown",
   "metadata": {},
   "source": [
    "## csv.DictReader"
   ]
  },
  {
   "cell_type": "code",
   "execution_count": 5,
   "metadata": {
    "collapsed": false
   },
   "outputs": [],
   "source": [
    "import numpy as np\n",
    "data = []\n",
    "with open('example.csv', 'r') as file_in:\n",
    "    reader_in = csv.DictReader(file_in)\n",
    "    for row in reader_in:\n",
    "        data.append(row)\n",
    "        \n",
    "x = np.array([row['x'] for row in data])\n",
    "y = np.array([row['y'] for row in data])     "
   ]
  },
  {
   "cell_type": "code",
   "execution_count": 6,
   "metadata": {
    "collapsed": false,
    "scrolled": true
   },
   "outputs": [
    {
     "data": {
      "text/plain": [
       "array(['0.974082283', '0.890050091', '0.822532957', '0.058089266',\n",
       "       '0.980640277', '0.539018976', '0.629848177', '0.716031219',\n",
       "       '0.616440841', '0.112504836', '0.906463368', '0.197669111',\n",
       "       '0.498406234', '0.091239091', '0.985686809', '0.813023596',\n",
       "       '0.647719176', '0.48698302', '0.05136739', '0.132374976',\n",
       "       '0.571479187', '0.551432383', '0.177679641', '0.759794708',\n",
       "       '0.922481032', '0.182840798', '0.306580021', '0.794310401',\n",
       "       '0.087018563', '0.460461739', '0.986187047', '0.029008364',\n",
       "       '0.035872927', '0.699694719', '0.121979503', '0.611814767',\n",
       "       '0.181784489', '0.243370739', '0.620308468', '0.059749283',\n",
       "       '0.388738282', '0.133130552', '0.269528204', '0.833738287',\n",
       "       '0.596779549', '0.943947013', '0.103107567', '0.994614946',\n",
       "       '0.899819456', '0.693217019', '0.108827877', '0.437908534',\n",
       "       '0.320699823', '0.443466862', '0.046261386', '0.622546661',\n",
       "       '0.231230447', '0.624794122', '0.977820519', '0.327162971',\n",
       "       '0.761285267', '0.68660404', '0.706513891', '0.909676636',\n",
       "       '0.666353655', '0.077764214', '0.284463902'], \n",
       "      dtype='<U11')"
      ]
     },
     "execution_count": 6,
     "metadata": {},
     "output_type": "execute_result"
    }
   ],
   "source": [
    "x = []\n",
    "y = []\n",
    "with open('example.csv', 'r') as file_in:\n",
    "    reader_in = csv.DictReader(file_in)\n",
    "    for row in reader_in:\n",
    "        x.append(row['x'])\n",
    "        y.append(row['y'])\n",
    "x = np.array(x)\n",
    "y = np.array(y)\n",
    "x"
   ]
  },
  {
   "cell_type": "markdown",
   "metadata": {},
   "source": [
    "## numpy.loadtxt"
   ]
  },
  {
   "cell_type": "code",
   "execution_count": 7,
   "metadata": {
    "collapsed": false
   },
   "outputs": [
    {
     "data": {
      "text/plain": [
       "[<matplotlib.lines.Line2D at 0x10d78ffd0>]"
      ]
     },
     "execution_count": 7,
     "metadata": {},
     "output_type": "execute_result"
    },
    {
     "data": {
      "image/png": "[encoded data removed]",
      "text/plain": [
       "<matplotlib.figure.Figure at 0x10d755b38>"
      ]
     },
     "metadata": {},
     "output_type": "display_data"
    }
   ],
   "source": [
    "xy = numpy.loadtxt('example.csv', delimiter=',', skiprows=1, usecols=(0,1))\n",
    "x, y = xy.T\n",
    "plt.plot(x,y, 'co')"
   ]
  },
  {
   "cell_type": "code",
   "execution_count": 8,
   "metadata": {
    "collapsed": false
   },
   "outputs": [
    {
     "data": {
      "text/plain": [
       "array([ 0.97408228,  0.89005009,  0.82253296,  0.05808927,  0.98064028,\n",
       "        0.53901898,  0.62984818,  0.71603122,  0.61644084,  0.11250484,\n",
       "        0.90646337,  0.19766911,  0.49840623,  0.09123909,  0.98568681,\n",
       "        0.8130236 ,  0.64771918,  0.48698302,  0.05136739,  0.13237498,\n",
       "        0.57147919,  0.55143238,  0.17767964,  0.75979471,  0.92248103,\n",
       "        0.1828408 ,  0.30658002,  0.7943104 ,  0.08701856,  0.46046174,\n",
       "        0.98618705,  0.02900836,  0.03587293,  0.69969472,  0.1219795 ,\n",
       "        0.61181477,  0.18178449,  0.24337074,  0.62030847,  0.05974928,\n",
       "        0.38873828,  0.13313055,  0.2695282 ,  0.83373829,  0.59677955,\n",
       "        0.94394701,  0.10310757,  0.99461495,  0.89981946,  0.69321702,\n",
       "        0.10882788,  0.43790853,  0.32069982,  0.44346686,  0.04626139,\n",
       "        0.62254666,  0.23123045,  0.62479412,  0.97782052,  0.32716297,\n",
       "        0.76128527,  0.68660404,  0.70651389,  0.90967664,  0.66635365,\n",
       "        0.07776421,  0.2844639 ])"
      ]
     },
     "execution_count": 8,
     "metadata": {},
     "output_type": "execute_result"
    },
    {
     "data": {
      "image/png": "[encoded data removed]",
      "text/plain": [
       "<matplotlib.figure.Figure at 0x10d767b00>"
      ]
     },
     "metadata": {},
     "output_type": "display_data"
    }
   ],
   "source": [
    "x, y = numpy.loadtxt('example.csv', delimiter=',', skiprows=1, usecols=(0,1), unpack=True)\n",
    "plt.plot(x,y, 'co')\n",
    "x"
   ]
  },
  {
   "cell_type": "markdown",
   "metadata": {},
   "source": [
    "## pandas\n",
    "`conda install pandas` if you don't already have it. Check the help menu top left"
   ]
  },
  {
   "cell_type": "code",
   "execution_count": 13,
   "metadata": {
    "collapsed": true
   },
   "outputs": [],
   "source": [
    "import pandas as pd"
   ]
  },
  {
   "cell_type": "code",
   "execution_count": 21,
   "metadata": {
    "collapsed": false
   },
   "outputs": [],
   "source": [
    "data = pd.read_csv('example.csv')\n",
    "\n"
   ]
  },
  {
   "cell_type": "code",
   "execution_count": 23,
   "metadata": {
    "collapsed": false
   },
   "outputs": [],
   "source": [
    "df = pd.DataFrame.from_csv('example.csv', index_col=2)\n"
   ]
  },
  {
   "cell_type": "code",
   "execution_count": 29,
   "metadata": {
    "collapsed": false
   },
   "outputs": [],
   "source": [
    "dogs = df.loc[df.index=='dog']\n",
    "x, y = np.array(dogs['x']), np.array(dogs['y'])\n"
   ]
  },
  {
   "cell_type": "code",
   "execution_count": 34,
   "metadata": {
    "collapsed": false
   },
   "outputs": [
    {
     "data": {
      "text/plain": [
       "0.64853597978622946"
      ]
     },
     "execution_count": 34,
     "metadata": {},
     "output_type": "execute_result"
    }
   ],
   "source": [
    "import scipy.stats\n",
    "scipy.stats.linregress(x,y).rvalue\n"
   ]
  },
  {
   "cell_type": "code",
   "execution_count": 36,
   "metadata": {
    "collapsed": false
   },
   "outputs": [
    {
     "name": "stdout",
     "output_type": "stream",
     "text": [
      "dog 0.648535979786\n",
      "cat 0.731102162819\n",
      "fish 0.849689651038\n"
     ]
    }
   ],
   "source": [
    "for animal in ['dog','cat','fish']:\n",
    "    pets = df.loc[df.index==animal]\n",
    "    x, y = np.array(pets['x']), np.array(pets['y'])\n",
    "    rvalue = scipy.stats.linregress(x,y).rvalue\n",
    "    print(animal, rvalue)"
   ]
  },
  {
   "cell_type": "code",
   "execution_count": 37,
   "metadata": {
    "collapsed": false
   },
   "outputs": [
    {
     "data": {
      "text/html": [
       "<div>\n",
       "<table border=\"1\" class=\"dataframe\">\n",
       "  <thead>\n",
       "    <tr style=\"text-align: right;\">\n",
       "      <th></th>\n",
       "      <th>x</th>\n",
       "      <th>y</th>\n",
       "    </tr>\n",
       "  </thead>\n",
       "  <tbody>\n",
       "    <tr>\n",
       "      <th>x</th>\n",
       "      <td>1.000000</td>\n",
       "      <td>0.648536</td>\n",
       "    </tr>\n",
       "    <tr>\n",
       "      <th>y</th>\n",
       "      <td>0.648536</td>\n",
       "      <td>1.000000</td>\n",
       "    </tr>\n",
       "  </tbody>\n",
       "</table>\n",
       "</div>"
      ],
      "text/plain": [
       "          x         y\n",
       "x  1.000000  0.648536\n",
       "y  0.648536  1.000000"
      ]
     },
     "execution_count": 37,
     "metadata": {},
     "output_type": "execute_result"
    }
   ],
   "source": [
    "dogs.corr()\n"
   ]
  },
  {
   "cell_type": "code",
   "execution_count": 39,
   "metadata": {
    "collapsed": false
   },
   "outputs": [
    {
     "name": "stdout",
     "output_type": "stream",
     "text": [
      "dog           x         y\n",
      "x  1.000000  0.648536\n",
      "y  0.648536  1.000000\n",
      "cat           x         y\n",
      "x  1.000000  0.731102\n",
      "y  0.731102  1.000000\n",
      "fish          x        y\n",
      "x  1.00000  0.84969\n",
      "y  0.84969  1.00000\n"
     ]
    }
   ],
   "source": [
    "for animal in ['dog','cat','fish']:\n",
    "    pets = df.loc[df.index==animal]\n",
    "    print(animal,pets.corr())"
   ]
  },
  {
   "cell_type": "code",
   "execution_count": null,
   "metadata": {
    "collapsed": true
   },
   "outputs": [],
   "source": []
  }
 ],
 "metadata": {
  "anaconda-cloud": {},
  "kernelspec": {
   "display_name": "Python [conda env:py3]",
   "language": "python",
   "name": "conda-env-py3-py"
  },
  "language_info": {
   "codemirror_mode": {
    "name": "ipython",
    "version": 3
   },
   "file_extension": ".py",
   "mimetype": "text/x-python",
   "name": "python",
   "nbconvert_exporter": "python",
   "pygments_lexer": "ipython3",
   "version": "3.5.2"
  }
 },
 "nbformat": 4,
 "nbformat_minor": 1
}
