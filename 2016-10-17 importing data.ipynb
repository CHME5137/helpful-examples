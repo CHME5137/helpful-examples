{
 "cells": [
  {
   "cell_type": "markdown",
   "metadata": {},
   "source": [
    "# Importing Data\n",
    "## csv\n",
    "Use the built-in library 'csv' to read (or write) csv files."
   ]
  },
  {
   "cell_type": "code",
   "execution_count": 1,
   "metadata": {
    "collapsed": true
   },
   "outputs": [],
   "source": [
    "import csv"
   ]
  },
  {
   "cell_type": "code",
   "execution_count": 2,
   "metadata": {
    "collapsed": false,
    "scrolled": true
   },
   "outputs": [
    {
     "name": "stdout",
     "output_type": "stream",
     "text": [
      "['x', 'y', 'animal']\n",
      "['0.974082283', '1.333440836', 'cat']\n",
      "['0.890050091', '1.051842345', 'dog']\n",
      "['0.822532957', '1.079770547', 'fish']\n",
      "['0.058089266', '0.531189217', 'fish']\n",
      "['0.980640277', '1.883998004', 'dog']\n",
      "['0.539018976', '0.721938256', 'cat']\n",
      "['0.629848177', '0.934208528', 'cat']\n",
      "['0.716031219', '0.972836633', 'dog']\n",
      "['0.616440841', '0.897908791', 'fish']\n",
      "['0.112504836', '0.942450947', 'fish']\n",
      "['0.906463368', '1.674266372', 'dog']\n",
      "['0.197669111', '0.792222351', 'cat']\n",
      "['0.498406234', '0.641038937', 'cat']\n",
      "['0.091239091', '0.484448662', 'dog']\n",
      "['0.985686809', '1.731222366', 'fish']\n",
      "['0.813023596', '1.137923508', 'fish']\n",
      "['0.647719176', '1.057624905', 'dog']\n",
      "['0.48698302', '0.569772203', 'cat']\n",
      "['0.05136739', '0.063085534', 'cat']\n",
      "['0.132374976', '1.109479011', 'cat']\n",
      "['0.571479187', '1.449795706', 'cat']\n",
      "['0.551432383', '1.062249431', 'dog']\n",
      "['0.177679641', '0.460985433', 'fish']\n",
      "['0.759794708', '1.449342841', 'fish']\n",
      "['0.922481032', '1.607051575', 'dog']\n",
      "['0.182840798', '0.584069595', 'cat']\n",
      "['0.306580021', '0.569039679', 'cat']\n",
      "['0.794310401', '1.369285754', 'cat']\n",
      "['0.087018563', '0.490547872', 'cat']\n",
      "['0.460461739', '0.483419932', 'dog']\n",
      "['0.986187047', '1.785608576', 'fish']\n",
      "['0.029008364', '0.530517124', 'fish']\n",
      "['0.035872927', '0.883567738', 'dog']\n",
      "['0.699694719', '1.495314111', 'cat']\n",
      "['0.121979503', '0.812565743', 'cat']\n",
      "['0.611814767', '1.279247598', 'cat']\n",
      "['0.181784489', '0.53419383', 'cat']\n",
      "['0.243370739', '0.965222763', 'dog']\n",
      "['0.620308468', '1.282882389', 'fish']\n",
      "['0.059749283', '0.406276422', 'fish']\n",
      "['0.388738282', '1.131591164', 'dog']\n",
      "['0.133130552', '0.475451289', 'cat']\n",
      "['0.269528204', '0.506358049', 'cat']\n",
      "['0.833738287', '1.509289726', 'cat']\n",
      "['0.596779549', '0.838757001', 'cat']\n",
      "['0.943947013', '1.287914597', 'dog']\n",
      "['0.103107567', '0.943340126', 'fish']\n",
      "['0.994614946', '1.401947714', 'fish']\n",
      "['0.899819456', '1.021192755', 'dog']\n",
      "['0.693217019', '1.494547306', 'cat']\n",
      "['0.108827877', '0.949664486', 'cat']\n",
      "['0.437908534', '1.223750549', 'cat']\n",
      "['0.320699823', '0.35132885', 'cat']\n",
      "['0.443466862', '0.89316973', 'dog']\n",
      "['0.046261386', '0.398163763', 'fish']\n",
      "['0.622546661', '1.44365713', 'fish']\n",
      "['0.231230447', '1.113742984', 'dog']\n",
      "['0.624794122', '0.718807343', 'cat']\n",
      "['0.977820519', '1.342924673', 'cat']\n",
      "['0.327162971', '0.786899546', 'cat']\n",
      "['0.761285267', '1.316981045', 'cat']\n",
      "['0.68660404', '0.831590901', 'dog']\n",
      "['0.706513891', '1.379184395', 'fish']\n",
      "['0.909676636', '1.032982884', 'fish']\n",
      "['0.666353655', '1.356371376', 'dog']\n",
      "['0.077764214', '0.63164808', 'cat']\n",
      "['0.284463902', '0.365750152', 'cat']\n"
     ]
    }
   ],
   "source": [
    "with open('example.csv') as my_file:\n",
    "    my_reader = csv.reader(my_file)\n",
    "    for row in my_reader:\n",
    "        print(row)"
   ]
  },
  {
   "cell_type": "markdown",
   "metadata": {},
   "source": [
    "To read into arrays so we can plot a scatter plot, you could do something like this:"
   ]
  },
  {
   "cell_type": "code",
   "execution_count": 3,
   "metadata": {
    "collapsed": false
   },
   "outputs": [
    {
     "data": {
      "text/plain": [
       "array(['0.974082283', '0.890050091', '0.822532957', '0.058089266',\n",
       "       '0.980640277', '0.539018976', '0.629848177', '0.716031219',\n",
       "       '0.616440841', '0.112504836', '0.906463368', '0.197669111',\n",
       "       '0.498406234', '0.091239091', '0.985686809', '0.813023596',\n",
       "       '0.647719176', '0.48698302', '0.05136739', '0.132374976',\n",
       "       '0.571479187', '0.551432383', '0.177679641', '0.759794708',\n",
       "       '0.922481032', '0.182840798', '0.306580021', '0.794310401',\n",
       "       '0.087018563', '0.460461739', '0.986187047', '0.029008364',\n",
       "       '0.035872927', '0.699694719', '0.121979503', '0.611814767',\n",
       "       '0.181784489', '0.243370739', '0.620308468', '0.059749283',\n",
       "       '0.388738282', '0.133130552', '0.269528204', '0.833738287',\n",
       "       '0.596779549', '0.943947013', '0.103107567', '0.994614946',\n",
       "       '0.899819456', '0.693217019', '0.108827877', '0.437908534',\n",
       "       '0.320699823', '0.443466862', '0.046261386', '0.622546661',\n",
       "       '0.231230447', '0.624794122', '0.977820519', '0.327162971',\n",
       "       '0.761285267', '0.68660404', '0.706513891', '0.909676636',\n",
       "       '0.666353655', '0.077764214', '0.284463902'], \n",
       "      dtype='<U11')"
      ]
     },
     "execution_count": 3,
     "metadata": {},
     "output_type": "execute_result"
    }
   ],
   "source": [
    "import numpy\n",
    "x = []\n",
    "y = []\n",
    "with open('example.csv') as my_file:\n",
    "    my_reader = csv.reader(my_file)\n",
    "    for row in my_reader:\n",
    "        x.append(row[0]) # we need to know that x is column 0\n",
    "        y.append(row[1]) # and y is column 1\n",
    "x.pop(0) # remove the first item, which is the string 'x'\n",
    "y.pop(0) # remove the first item, which is the string 'y'\n",
    "x = numpy.array(x)\n",
    "y = numpy.array(y)\n",
    "x"
   ]
  },
  {
   "cell_type": "code",
   "execution_count": 4,
   "metadata": {
    "collapsed": false
   },
   "outputs": [
    {
     "data": {
      "text/plain": [
       "[<matplotlib.lines.Line2D at 0x10d1882e8>]"
      ]
     },
     "execution_count": 4,
     "metadata": {},
     "output_type": "execute_result"
    },
    {
     "data": {
      "image/png": "[encoded data removed]",
      "text/plain": [
       "<matplotlib.figure.Figure at 0x104a583c8>"
      ]
     },
     "metadata": {},
     "output_type": "display_data"
    }
   ],
   "source": [
    "from matplotlib import pyplot as plt\n",
    "%matplotlib inline\n",
    "plt.plot(x,y,'co')"
   ]
  },
  {
   "cell_type": "markdown",
   "metadata": {},
   "source": [
    "## csv.DictReader\n",
    "\n",
    "Using a DictReader to read the column headings from the first row, and return a sequence of Python dictionaries, it would look like this. This means we don't have to keep track of which column is which, making code easier to understand and more robust to the data file changing."
   ]
  },
  {
   "cell_type": "code",
   "execution_count": 5,
   "metadata": {
    "collapsed": false
   },
   "outputs": [],
   "source": [
    "import numpy as np\n",
    "data = []\n",
    "with open('example.csv', 'r') as file_in:\n",
    "    reader_in = csv.DictReader(file_in)\n",
    "    for row in reader_in:\n",
    "        data.append(row)\n",
    "        \n",
    "x = np.array([row['x'] for row in data])\n",
    "y = np.array([row['y'] for row in data])     "
   ]
  },
  {
   "cell_type": "code",
   "execution_count": 6,
   "metadata": {
    "collapsed": false,
    "scrolled": true
   },
   "outputs": [
    {
     "data": {
      "text/plain": [
       "array(['0.974082283', '0.890050091', '0.822532957', '0.058089266',\n",
       "       '0.980640277', '0.539018976', '0.629848177', '0.716031219',\n",
       "       '0.616440841', '0.112504836', '0.906463368', '0.197669111',\n",
       "       '0.498406234', '0.091239091', '0.985686809', '0.813023596',\n",
       "       '0.647719176', '0.48698302', '0.05136739', '0.132374976',\n",
       "       '0.571479187', '0.551432383', '0.177679641', '0.759794708',\n",
       "       '0.922481032', '0.182840798', '0.306580021', '0.794310401',\n",
       "       '0.087018563', '0.460461739', '0.986187047', '0.029008364',\n",
       "       '0.035872927', '0.699694719', '0.121979503', '0.611814767',\n",
       "       '0.181784489', '0.243370739', '0.620308468', '0.059749283',\n",
       "       '0.388738282', '0.133130552', '0.269528204', '0.833738287',\n",
       "       '0.596779549', '0.943947013', '0.103107567', '0.994614946',\n",
       "       '0.899819456', '0.693217019', '0.108827877', '0.437908534',\n",
       "       '0.320699823', '0.443466862', '0.046261386', '0.622546661',\n",
       "       '0.231230447', '0.624794122', '0.977820519', '0.327162971',\n",
       "       '0.761285267', '0.68660404', '0.706513891', '0.909676636',\n",
       "       '0.666353655', '0.077764214', '0.284463902'], \n",
       "      dtype='<U11')"
      ]
     },
     "execution_count": 6,
     "metadata": {},
     "output_type": "execute_result"
    }
   ],
   "source": [
    "x = []\n",
    "y = []\n",
    "with open('example.csv', 'r') as file_in:\n",
    "    reader_in = csv.DictReader(file_in)\n",
    "    for row in reader_in:\n",
    "        x.append(row['x'])\n",
    "        y.append(row['y'])\n",
    "x = np.array(x)\n",
    "y = np.array(y)\n",
    "x"
   ]
  },
  {
   "cell_type": "markdown",
   "metadata": {},
   "source": [
    "## numpy.loadtxt\n",
    "\n",
    "Use numpy's built in 'loadtext' method. Check the documentation to find out various options."
   ]
  },
  {
   "cell_type": "code",
   "execution_count": 7,
   "metadata": {
    "collapsed": false
   },
   "outputs": [
    {
     "data": {
      "text/plain": [
       "[<matplotlib.lines.Line2D at 0x10d8c4d68>]"
      ]
     },
     "execution_count": 7,
     "metadata": {},
     "output_type": "execute_result"
    },
    {
     "data": {
      "image/png": "[encoded data removed]",
      "text/plain": [
       "<matplotlib.figure.Figure at 0x10d88b5c0>"
      ]
     },
     "metadata": {},
     "output_type": "display_data"
    }
   ],
   "source": [
    "xy = numpy.loadtxt('example.csv', delimiter=',', skiprows=1, usecols=(0,1))\n",
    "# xy is now an (n x 2) array.\n",
    "# We can tranpose it into (2 x n) \n",
    "# then split into two arrays, x and y.\n",
    "x, y = xy.T\n",
    "# (That is a helpful trick for processing results from scipy.integrate.odeint.)\n",
    "plt.plot(x,y,'co')"
   ]
  },
  {
   "cell_type": "code",
   "execution_count": 8,
   "metadata": {
    "collapsed": false
   },
   "outputs": [
    {
     "data": {
      "text/plain": [
       "array([ 0.97408228,  0.89005009,  0.82253296,  0.05808927,  0.98064028,\n",
       "        0.53901898,  0.62984818,  0.71603122,  0.61644084,  0.11250484,\n",
       "        0.90646337,  0.19766911,  0.49840623,  0.09123909,  0.98568681,\n",
       "        0.8130236 ,  0.64771918,  0.48698302,  0.05136739,  0.13237498,\n",
       "        0.57147919,  0.55143238,  0.17767964,  0.75979471,  0.92248103,\n",
       "        0.1828408 ,  0.30658002,  0.7943104 ,  0.08701856,  0.46046174,\n",
       "        0.98618705,  0.02900836,  0.03587293,  0.69969472,  0.1219795 ,\n",
       "        0.61181477,  0.18178449,  0.24337074,  0.62030847,  0.05974928,\n",
       "        0.38873828,  0.13313055,  0.2695282 ,  0.83373829,  0.59677955,\n",
       "        0.94394701,  0.10310757,  0.99461495,  0.89981946,  0.69321702,\n",
       "        0.10882788,  0.43790853,  0.32069982,  0.44346686,  0.04626139,\n",
       "        0.62254666,  0.23123045,  0.62479412,  0.97782052,  0.32716297,\n",
       "        0.76128527,  0.68660404,  0.70651389,  0.90967664,  0.66635365,\n",
       "        0.07776421,  0.2844639 ])"
      ]
     },
     "execution_count": 8,
     "metadata": {},
     "output_type": "execute_result"
    },
    {
     "data": {
      "image/png": "[encoded data removed]",
      "text/plain": [
       "<matplotlib.figure.Figure at 0x10d89db70>"
      ]
     },
     "metadata": {},
     "output_type": "display_data"
    }
   ],
   "source": [
    "x, y = numpy.loadtxt('example.csv', delimiter=',', skiprows=1, usecols=(0,1), unpack=True)\n",
    "plt.plot(x,y, 'co')\n",
    "x"
   ]
  },
  {
   "cell_type": "markdown",
   "metadata": {},
   "source": [
    "## pandas\n",
    "`conda install pandas` if you don't already have it. Check the help menu top left.\n",
    "\n",
    "### Challenge: \n",
    "Using pandas, find the correlation between x and y for each group of animals."
   ]
  },
  {
   "cell_type": "code",
   "execution_count": 9,
   "metadata": {
    "collapsed": false
   },
   "outputs": [
    {
     "name": "stdout",
     "output_type": "stream",
     "text": [
      "<class 'pandas.core.frame.DataFrame'>\n"
     ]
    },
    {
     "data": {
      "text/html": [
       "<div>\n",
       "<table border=\"1\" class=\"dataframe\">\n",
       "  <thead>\n",
       "    <tr style=\"text-align: right;\">\n",
       "      <th></th>\n",
       "      <th>x</th>\n",
       "      <th>y</th>\n",
       "      <th>animal</th>\n",
       "    </tr>\n",
       "  </thead>\n",
       "  <tbody>\n",
       "    <tr>\n",
       "      <th>0</th>\n",
       "      <td>0.974082</td>\n",
       "      <td>1.333441</td>\n",
       "      <td>cat</td>\n",
       "    </tr>\n",
       "    <tr>\n",
       "      <th>1</th>\n",
       "      <td>0.890050</td>\n",
       "      <td>1.051842</td>\n",
       "      <td>dog</td>\n",
       "    </tr>\n",
       "    <tr>\n",
       "      <th>2</th>\n",
       "      <td>0.822533</td>\n",
       "      <td>1.079771</td>\n",
       "      <td>fish</td>\n",
       "    </tr>\n",
       "    <tr>\n",
       "      <th>3</th>\n",
       "      <td>0.058089</td>\n",
       "      <td>0.531189</td>\n",
       "      <td>fish</td>\n",
       "    </tr>\n",
       "    <tr>\n",
       "      <th>4</th>\n",
       "      <td>0.980640</td>\n",
       "      <td>1.883998</td>\n",
       "      <td>dog</td>\n",
       "    </tr>\n",
       "    <tr>\n",
       "      <th>5</th>\n",
       "      <td>0.539019</td>\n",
       "      <td>0.721938</td>\n",
       "      <td>cat</td>\n",
       "    </tr>\n",
       "    <tr>\n",
       "      <th>6</th>\n",
       "      <td>0.629848</td>\n",
       "      <td>0.934209</td>\n",
       "      <td>cat</td>\n",
       "    </tr>\n",
       "    <tr>\n",
       "      <th>7</th>\n",
       "      <td>0.716031</td>\n",
       "      <td>0.972837</td>\n",
       "      <td>dog</td>\n",
       "    </tr>\n",
       "    <tr>\n",
       "      <th>8</th>\n",
       "      <td>0.616441</td>\n",
       "      <td>0.897909</td>\n",
       "      <td>fish</td>\n",
       "    </tr>\n",
       "    <tr>\n",
       "      <th>9</th>\n",
       "      <td>0.112505</td>\n",
       "      <td>0.942451</td>\n",
       "      <td>fish</td>\n",
       "    </tr>\n",
       "    <tr>\n",
       "      <th>10</th>\n",
       "      <td>0.906463</td>\n",
       "      <td>1.674266</td>\n",
       "      <td>dog</td>\n",
       "    </tr>\n",
       "    <tr>\n",
       "      <th>11</th>\n",
       "      <td>0.197669</td>\n",
       "      <td>0.792222</td>\n",
       "      <td>cat</td>\n",
       "    </tr>\n",
       "    <tr>\n",
       "      <th>12</th>\n",
       "      <td>0.498406</td>\n",
       "      <td>0.641039</td>\n",
       "      <td>cat</td>\n",
       "    </tr>\n",
       "    <tr>\n",
       "      <th>13</th>\n",
       "      <td>0.091239</td>\n",
       "      <td>0.484449</td>\n",
       "      <td>dog</td>\n",
       "    </tr>\n",
       "    <tr>\n",
       "      <th>14</th>\n",
       "      <td>0.985687</td>\n",
       "      <td>1.731222</td>\n",
       "      <td>fish</td>\n",
       "    </tr>\n",
       "    <tr>\n",
       "      <th>15</th>\n",
       "      <td>0.813024</td>\n",
       "      <td>1.137924</td>\n",
       "      <td>fish</td>\n",
       "    </tr>\n",
       "    <tr>\n",
       "      <th>16</th>\n",
       "      <td>0.647719</td>\n",
       "      <td>1.057625</td>\n",
       "      <td>dog</td>\n",
       "    </tr>\n",
       "    <tr>\n",
       "      <th>17</th>\n",
       "      <td>0.486983</td>\n",
       "      <td>0.569772</td>\n",
       "      <td>cat</td>\n",
       "    </tr>\n",
       "    <tr>\n",
       "      <th>18</th>\n",
       "      <td>0.051367</td>\n",
       "      <td>0.063086</td>\n",
       "      <td>cat</td>\n",
       "    </tr>\n",
       "    <tr>\n",
       "      <th>19</th>\n",
       "      <td>0.132375</td>\n",
       "      <td>1.109479</td>\n",
       "      <td>cat</td>\n",
       "    </tr>\n",
       "    <tr>\n",
       "      <th>20</th>\n",
       "      <td>0.571479</td>\n",
       "      <td>1.449796</td>\n",
       "      <td>cat</td>\n",
       "    </tr>\n",
       "    <tr>\n",
       "      <th>21</th>\n",
       "      <td>0.551432</td>\n",
       "      <td>1.062249</td>\n",
       "      <td>dog</td>\n",
       "    </tr>\n",
       "    <tr>\n",
       "      <th>22</th>\n",
       "      <td>0.177680</td>\n",
       "      <td>0.460985</td>\n",
       "      <td>fish</td>\n",
       "    </tr>\n",
       "    <tr>\n",
       "      <th>23</th>\n",
       "      <td>0.759795</td>\n",
       "      <td>1.449343</td>\n",
       "      <td>fish</td>\n",
       "    </tr>\n",
       "    <tr>\n",
       "      <th>24</th>\n",
       "      <td>0.922481</td>\n",
       "      <td>1.607052</td>\n",
       "      <td>dog</td>\n",
       "    </tr>\n",
       "    <tr>\n",
       "      <th>25</th>\n",
       "      <td>0.182841</td>\n",
       "      <td>0.584070</td>\n",
       "      <td>cat</td>\n",
       "    </tr>\n",
       "    <tr>\n",
       "      <th>26</th>\n",
       "      <td>0.306580</td>\n",
       "      <td>0.569040</td>\n",
       "      <td>cat</td>\n",
       "    </tr>\n",
       "    <tr>\n",
       "      <th>27</th>\n",
       "      <td>0.794310</td>\n",
       "      <td>1.369286</td>\n",
       "      <td>cat</td>\n",
       "    </tr>\n",
       "    <tr>\n",
       "      <th>28</th>\n",
       "      <td>0.087019</td>\n",
       "      <td>0.490548</td>\n",
       "      <td>cat</td>\n",
       "    </tr>\n",
       "    <tr>\n",
       "      <th>29</th>\n",
       "      <td>0.460462</td>\n",
       "      <td>0.483420</td>\n",
       "      <td>dog</td>\n",
       "    </tr>\n",
       "    <tr>\n",
       "      <th>...</th>\n",
       "      <td>...</td>\n",
       "      <td>...</td>\n",
       "      <td>...</td>\n",
       "    </tr>\n",
       "    <tr>\n",
       "      <th>37</th>\n",
       "      <td>0.243371</td>\n",
       "      <td>0.965223</td>\n",
       "      <td>dog</td>\n",
       "    </tr>\n",
       "    <tr>\n",
       "      <th>38</th>\n",
       "      <td>0.620308</td>\n",
       "      <td>1.282882</td>\n",
       "      <td>fish</td>\n",
       "    </tr>\n",
       "    <tr>\n",
       "      <th>39</th>\n",
       "      <td>0.059749</td>\n",
       "      <td>0.406276</td>\n",
       "      <td>fish</td>\n",
       "    </tr>\n",
       "    <tr>\n",
       "      <th>40</th>\n",
       "      <td>0.388738</td>\n",
       "      <td>1.131591</td>\n",
       "      <td>dog</td>\n",
       "    </tr>\n",
       "    <tr>\n",
       "      <th>41</th>\n",
       "      <td>0.133131</td>\n",
       "      <td>0.475451</td>\n",
       "      <td>cat</td>\n",
       "    </tr>\n",
       "    <tr>\n",
       "      <th>42</th>\n",
       "      <td>0.269528</td>\n",
       "      <td>0.506358</td>\n",
       "      <td>cat</td>\n",
       "    </tr>\n",
       "    <tr>\n",
       "      <th>43</th>\n",
       "      <td>0.833738</td>\n",
       "      <td>1.509290</td>\n",
       "      <td>cat</td>\n",
       "    </tr>\n",
       "    <tr>\n",
       "      <th>44</th>\n",
       "      <td>0.596780</td>\n",
       "      <td>0.838757</td>\n",
       "      <td>cat</td>\n",
       "    </tr>\n",
       "    <tr>\n",
       "      <th>45</th>\n",
       "      <td>0.943947</td>\n",
       "      <td>1.287915</td>\n",
       "      <td>dog</td>\n",
       "    </tr>\n",
       "    <tr>\n",
       "      <th>46</th>\n",
       "      <td>0.103108</td>\n",
       "      <td>0.943340</td>\n",
       "      <td>fish</td>\n",
       "    </tr>\n",
       "    <tr>\n",
       "      <th>47</th>\n",
       "      <td>0.994615</td>\n",
       "      <td>1.401948</td>\n",
       "      <td>fish</td>\n",
       "    </tr>\n",
       "    <tr>\n",
       "      <th>48</th>\n",
       "      <td>0.899819</td>\n",
       "      <td>1.021193</td>\n",
       "      <td>dog</td>\n",
       "    </tr>\n",
       "    <tr>\n",
       "      <th>49</th>\n",
       "      <td>0.693217</td>\n",
       "      <td>1.494547</td>\n",
       "      <td>cat</td>\n",
       "    </tr>\n",
       "    <tr>\n",
       "      <th>50</th>\n",
       "      <td>0.108828</td>\n",
       "      <td>0.949664</td>\n",
       "      <td>cat</td>\n",
       "    </tr>\n",
       "    <tr>\n",
       "      <th>51</th>\n",
       "      <td>0.437909</td>\n",
       "      <td>1.223751</td>\n",
       "      <td>cat</td>\n",
       "    </tr>\n",
       "    <tr>\n",
       "      <th>52</th>\n",
       "      <td>0.320700</td>\n",
       "      <td>0.351329</td>\n",
       "      <td>cat</td>\n",
       "    </tr>\n",
       "    <tr>\n",
       "      <th>53</th>\n",
       "      <td>0.443467</td>\n",
       "      <td>0.893170</td>\n",
       "      <td>dog</td>\n",
       "    </tr>\n",
       "    <tr>\n",
       "      <th>54</th>\n",
       "      <td>0.046261</td>\n",
       "      <td>0.398164</td>\n",
       "      <td>fish</td>\n",
       "    </tr>\n",
       "    <tr>\n",
       "      <th>55</th>\n",
       "      <td>0.622547</td>\n",
       "      <td>1.443657</td>\n",
       "      <td>fish</td>\n",
       "    </tr>\n",
       "    <tr>\n",
       "      <th>56</th>\n",
       "      <td>0.231230</td>\n",
       "      <td>1.113743</td>\n",
       "      <td>dog</td>\n",
       "    </tr>\n",
       "    <tr>\n",
       "      <th>57</th>\n",
       "      <td>0.624794</td>\n",
       "      <td>0.718807</td>\n",
       "      <td>cat</td>\n",
       "    </tr>\n",
       "    <tr>\n",
       "      <th>58</th>\n",
       "      <td>0.977821</td>\n",
       "      <td>1.342925</td>\n",
       "      <td>cat</td>\n",
       "    </tr>\n",
       "    <tr>\n",
       "      <th>59</th>\n",
       "      <td>0.327163</td>\n",
       "      <td>0.786900</td>\n",
       "      <td>cat</td>\n",
       "    </tr>\n",
       "    <tr>\n",
       "      <th>60</th>\n",
       "      <td>0.761285</td>\n",
       "      <td>1.316981</td>\n",
       "      <td>cat</td>\n",
       "    </tr>\n",
       "    <tr>\n",
       "      <th>61</th>\n",
       "      <td>0.686604</td>\n",
       "      <td>0.831591</td>\n",
       "      <td>dog</td>\n",
       "    </tr>\n",
       "    <tr>\n",
       "      <th>62</th>\n",
       "      <td>0.706514</td>\n",
       "      <td>1.379184</td>\n",
       "      <td>fish</td>\n",
       "    </tr>\n",
       "    <tr>\n",
       "      <th>63</th>\n",
       "      <td>0.909677</td>\n",
       "      <td>1.032983</td>\n",
       "      <td>fish</td>\n",
       "    </tr>\n",
       "    <tr>\n",
       "      <th>64</th>\n",
       "      <td>0.666354</td>\n",
       "      <td>1.356371</td>\n",
       "      <td>dog</td>\n",
       "    </tr>\n",
       "    <tr>\n",
       "      <th>65</th>\n",
       "      <td>0.077764</td>\n",
       "      <td>0.631648</td>\n",
       "      <td>cat</td>\n",
       "    </tr>\n",
       "    <tr>\n",
       "      <th>66</th>\n",
       "      <td>0.284464</td>\n",
       "      <td>0.365750</td>\n",
       "      <td>cat</td>\n",
       "    </tr>\n",
       "  </tbody>\n",
       "</table>\n",
       "<p>67 rows × 3 columns</p>\n",
       "</div>"
      ],
      "text/plain": [
       "           x         y animal\n",
       "0   0.974082  1.333441    cat\n",
       "1   0.890050  1.051842    dog\n",
       "2   0.822533  1.079771   fish\n",
       "3   0.058089  0.531189   fish\n",
       "4   0.980640  1.883998    dog\n",
       "5   0.539019  0.721938    cat\n",
       "6   0.629848  0.934209    cat\n",
       "7   0.716031  0.972837    dog\n",
       "8   0.616441  0.897909   fish\n",
       "9   0.112505  0.942451   fish\n",
       "10  0.906463  1.674266    dog\n",
       "11  0.197669  0.792222    cat\n",
       "12  0.498406  0.641039    cat\n",
       "13  0.091239  0.484449    dog\n",
       "14  0.985687  1.731222   fish\n",
       "15  0.813024  1.137924   fish\n",
       "16  0.647719  1.057625    dog\n",
       "17  0.486983  0.569772    cat\n",
       "18  0.051367  0.063086    cat\n",
       "19  0.132375  1.109479    cat\n",
       "20  0.571479  1.449796    cat\n",
       "21  0.551432  1.062249    dog\n",
       "22  0.177680  0.460985   fish\n",
       "23  0.759795  1.449343   fish\n",
       "24  0.922481  1.607052    dog\n",
       "25  0.182841  0.584070    cat\n",
       "26  0.306580  0.569040    cat\n",
       "27  0.794310  1.369286    cat\n",
       "28  0.087019  0.490548    cat\n",
       "29  0.460462  0.483420    dog\n",
       "..       ...       ...    ...\n",
       "37  0.243371  0.965223    dog\n",
       "38  0.620308  1.282882   fish\n",
       "39  0.059749  0.406276   fish\n",
       "40  0.388738  1.131591    dog\n",
       "41  0.133131  0.475451    cat\n",
       "42  0.269528  0.506358    cat\n",
       "43  0.833738  1.509290    cat\n",
       "44  0.596780  0.838757    cat\n",
       "45  0.943947  1.287915    dog\n",
       "46  0.103108  0.943340   fish\n",
       "47  0.994615  1.401948   fish\n",
       "48  0.899819  1.021193    dog\n",
       "49  0.693217  1.494547    cat\n",
       "50  0.108828  0.949664    cat\n",
       "51  0.437909  1.223751    cat\n",
       "52  0.320700  0.351329    cat\n",
       "53  0.443467  0.893170    dog\n",
       "54  0.046261  0.398164   fish\n",
       "55  0.622547  1.443657   fish\n",
       "56  0.231230  1.113743    dog\n",
       "57  0.624794  0.718807    cat\n",
       "58  0.977821  1.342925    cat\n",
       "59  0.327163  0.786900    cat\n",
       "60  0.761285  1.316981    cat\n",
       "61  0.686604  0.831591    dog\n",
       "62  0.706514  1.379184   fish\n",
       "63  0.909677  1.032983   fish\n",
       "64  0.666354  1.356371    dog\n",
       "65  0.077764  0.631648    cat\n",
       "66  0.284464  0.365750    cat\n",
       "\n",
       "[67 rows x 3 columns]"
      ]
     },
     "execution_count": 9,
     "metadata": {},
     "output_type": "execute_result"
    }
   ],
   "source": [
    "import pandas as pd\n",
    "data = pd.read_csv('example.csv')\n",
    "print(type(data)) # it's a \"DataFrame\"\n",
    "data"
   ]
  },
  {
   "cell_type": "markdown",
   "metadata": {},
   "source": [
    "We can extract the dogs like this, into a new DataFrame"
   ]
  },
  {
   "cell_type": "code",
   "execution_count": 10,
   "metadata": {
    "collapsed": false
   },
   "outputs": [
    {
     "name": "stdout",
     "output_type": "stream",
     "text": [
      "<class 'pandas.core.frame.DataFrame'>\n"
     ]
    },
    {
     "data": {
      "text/html": [
       "<div>\n",
       "<table border=\"1\" class=\"dataframe\">\n",
       "  <thead>\n",
       "    <tr style=\"text-align: right;\">\n",
       "      <th></th>\n",
       "      <th>x</th>\n",
       "      <th>y</th>\n",
       "      <th>animal</th>\n",
       "    </tr>\n",
       "  </thead>\n",
       "  <tbody>\n",
       "    <tr>\n",
       "      <th>1</th>\n",
       "      <td>0.890050</td>\n",
       "      <td>1.051842</td>\n",
       "      <td>dog</td>\n",
       "    </tr>\n",
       "    <tr>\n",
       "      <th>4</th>\n",
       "      <td>0.980640</td>\n",
       "      <td>1.883998</td>\n",
       "      <td>dog</td>\n",
       "    </tr>\n",
       "    <tr>\n",
       "      <th>7</th>\n",
       "      <td>0.716031</td>\n",
       "      <td>0.972837</td>\n",
       "      <td>dog</td>\n",
       "    </tr>\n",
       "    <tr>\n",
       "      <th>10</th>\n",
       "      <td>0.906463</td>\n",
       "      <td>1.674266</td>\n",
       "      <td>dog</td>\n",
       "    </tr>\n",
       "    <tr>\n",
       "      <th>13</th>\n",
       "      <td>0.091239</td>\n",
       "      <td>0.484449</td>\n",
       "      <td>dog</td>\n",
       "    </tr>\n",
       "    <tr>\n",
       "      <th>16</th>\n",
       "      <td>0.647719</td>\n",
       "      <td>1.057625</td>\n",
       "      <td>dog</td>\n",
       "    </tr>\n",
       "    <tr>\n",
       "      <th>21</th>\n",
       "      <td>0.551432</td>\n",
       "      <td>1.062249</td>\n",
       "      <td>dog</td>\n",
       "    </tr>\n",
       "    <tr>\n",
       "      <th>24</th>\n",
       "      <td>0.922481</td>\n",
       "      <td>1.607052</td>\n",
       "      <td>dog</td>\n",
       "    </tr>\n",
       "    <tr>\n",
       "      <th>29</th>\n",
       "      <td>0.460462</td>\n",
       "      <td>0.483420</td>\n",
       "      <td>dog</td>\n",
       "    </tr>\n",
       "    <tr>\n",
       "      <th>32</th>\n",
       "      <td>0.035873</td>\n",
       "      <td>0.883568</td>\n",
       "      <td>dog</td>\n",
       "    </tr>\n",
       "    <tr>\n",
       "      <th>37</th>\n",
       "      <td>0.243371</td>\n",
       "      <td>0.965223</td>\n",
       "      <td>dog</td>\n",
       "    </tr>\n",
       "    <tr>\n",
       "      <th>40</th>\n",
       "      <td>0.388738</td>\n",
       "      <td>1.131591</td>\n",
       "      <td>dog</td>\n",
       "    </tr>\n",
       "    <tr>\n",
       "      <th>45</th>\n",
       "      <td>0.943947</td>\n",
       "      <td>1.287915</td>\n",
       "      <td>dog</td>\n",
       "    </tr>\n",
       "    <tr>\n",
       "      <th>48</th>\n",
       "      <td>0.899819</td>\n",
       "      <td>1.021193</td>\n",
       "      <td>dog</td>\n",
       "    </tr>\n",
       "    <tr>\n",
       "      <th>53</th>\n",
       "      <td>0.443467</td>\n",
       "      <td>0.893170</td>\n",
       "      <td>dog</td>\n",
       "    </tr>\n",
       "    <tr>\n",
       "      <th>56</th>\n",
       "      <td>0.231230</td>\n",
       "      <td>1.113743</td>\n",
       "      <td>dog</td>\n",
       "    </tr>\n",
       "    <tr>\n",
       "      <th>61</th>\n",
       "      <td>0.686604</td>\n",
       "      <td>0.831591</td>\n",
       "      <td>dog</td>\n",
       "    </tr>\n",
       "    <tr>\n",
       "      <th>64</th>\n",
       "      <td>0.666354</td>\n",
       "      <td>1.356371</td>\n",
       "      <td>dog</td>\n",
       "    </tr>\n",
       "  </tbody>\n",
       "</table>\n",
       "</div>"
      ],
      "text/plain": [
       "           x         y animal\n",
       "1   0.890050  1.051842    dog\n",
       "4   0.980640  1.883998    dog\n",
       "7   0.716031  0.972837    dog\n",
       "10  0.906463  1.674266    dog\n",
       "13  0.091239  0.484449    dog\n",
       "16  0.647719  1.057625    dog\n",
       "21  0.551432  1.062249    dog\n",
       "24  0.922481  1.607052    dog\n",
       "29  0.460462  0.483420    dog\n",
       "32  0.035873  0.883568    dog\n",
       "37  0.243371  0.965223    dog\n",
       "40  0.388738  1.131591    dog\n",
       "45  0.943947  1.287915    dog\n",
       "48  0.899819  1.021193    dog\n",
       "53  0.443467  0.893170    dog\n",
       "56  0.231230  1.113743    dog\n",
       "61  0.686604  0.831591    dog\n",
       "64  0.666354  1.356371    dog"
      ]
     },
     "execution_count": 10,
     "metadata": {},
     "output_type": "execute_result"
    }
   ],
   "source": [
    "dogs = data.loc[data['animal'] == 'dog']\n",
    "print(type(dogs))\n",
    "dogs"
   ]
  },
  {
   "cell_type": "markdown",
   "metadata": {},
   "source": [
    "Or we could have made a dataframe with the animals as an index column, and used that."
   ]
  },
  {
   "cell_type": "code",
   "execution_count": 11,
   "metadata": {
    "collapsed": false
   },
   "outputs": [
    {
     "data": {
      "text/html": [
       "<div>\n",
       "<table border=\"1\" class=\"dataframe\">\n",
       "  <thead>\n",
       "    <tr style=\"text-align: right;\">\n",
       "      <th></th>\n",
       "      <th>x</th>\n",
       "      <th>y</th>\n",
       "    </tr>\n",
       "    <tr>\n",
       "      <th>animal</th>\n",
       "      <th></th>\n",
       "      <th></th>\n",
       "    </tr>\n",
       "  </thead>\n",
       "  <tbody>\n",
       "    <tr>\n",
       "      <th>dog</th>\n",
       "      <td>0.890050</td>\n",
       "      <td>1.051842</td>\n",
       "    </tr>\n",
       "    <tr>\n",
       "      <th>dog</th>\n",
       "      <td>0.980640</td>\n",
       "      <td>1.883998</td>\n",
       "    </tr>\n",
       "    <tr>\n",
       "      <th>dog</th>\n",
       "      <td>0.716031</td>\n",
       "      <td>0.972837</td>\n",
       "    </tr>\n",
       "    <tr>\n",
       "      <th>dog</th>\n",
       "      <td>0.906463</td>\n",
       "      <td>1.674266</td>\n",
       "    </tr>\n",
       "    <tr>\n",
       "      <th>dog</th>\n",
       "      <td>0.091239</td>\n",
       "      <td>0.484449</td>\n",
       "    </tr>\n",
       "    <tr>\n",
       "      <th>dog</th>\n",
       "      <td>0.647719</td>\n",
       "      <td>1.057625</td>\n",
       "    </tr>\n",
       "    <tr>\n",
       "      <th>dog</th>\n",
       "      <td>0.551432</td>\n",
       "      <td>1.062249</td>\n",
       "    </tr>\n",
       "    <tr>\n",
       "      <th>dog</th>\n",
       "      <td>0.922481</td>\n",
       "      <td>1.607052</td>\n",
       "    </tr>\n",
       "    <tr>\n",
       "      <th>dog</th>\n",
       "      <td>0.460462</td>\n",
       "      <td>0.483420</td>\n",
       "    </tr>\n",
       "    <tr>\n",
       "      <th>dog</th>\n",
       "      <td>0.035873</td>\n",
       "      <td>0.883568</td>\n",
       "    </tr>\n",
       "    <tr>\n",
       "      <th>dog</th>\n",
       "      <td>0.243371</td>\n",
       "      <td>0.965223</td>\n",
       "    </tr>\n",
       "    <tr>\n",
       "      <th>dog</th>\n",
       "      <td>0.388738</td>\n",
       "      <td>1.131591</td>\n",
       "    </tr>\n",
       "    <tr>\n",
       "      <th>dog</th>\n",
       "      <td>0.943947</td>\n",
       "      <td>1.287915</td>\n",
       "    </tr>\n",
       "    <tr>\n",
       "      <th>dog</th>\n",
       "      <td>0.899819</td>\n",
       "      <td>1.021193</td>\n",
       "    </tr>\n",
       "    <tr>\n",
       "      <th>dog</th>\n",
       "      <td>0.443467</td>\n",
       "      <td>0.893170</td>\n",
       "    </tr>\n",
       "    <tr>\n",
       "      <th>dog</th>\n",
       "      <td>0.231230</td>\n",
       "      <td>1.113743</td>\n",
       "    </tr>\n",
       "    <tr>\n",
       "      <th>dog</th>\n",
       "      <td>0.686604</td>\n",
       "      <td>0.831591</td>\n",
       "    </tr>\n",
       "    <tr>\n",
       "      <th>dog</th>\n",
       "      <td>0.666354</td>\n",
       "      <td>1.356371</td>\n",
       "    </tr>\n",
       "  </tbody>\n",
       "</table>\n",
       "</div>"
      ],
      "text/plain": [
       "               x         y\n",
       "animal                    \n",
       "dog     0.890050  1.051842\n",
       "dog     0.980640  1.883998\n",
       "dog     0.716031  0.972837\n",
       "dog     0.906463  1.674266\n",
       "dog     0.091239  0.484449\n",
       "dog     0.647719  1.057625\n",
       "dog     0.551432  1.062249\n",
       "dog     0.922481  1.607052\n",
       "dog     0.460462  0.483420\n",
       "dog     0.035873  0.883568\n",
       "dog     0.243371  0.965223\n",
       "dog     0.388738  1.131591\n",
       "dog     0.943947  1.287915\n",
       "dog     0.899819  1.021193\n",
       "dog     0.443467  0.893170\n",
       "dog     0.231230  1.113743\n",
       "dog     0.686604  0.831591\n",
       "dog     0.666354  1.356371"
      ]
     },
     "execution_count": 11,
     "metadata": {},
     "output_type": "execute_result"
    }
   ],
   "source": [
    "data_with_index = pd.DataFrame.from_csv('example.csv', index_col=2)\n",
    "dogs = data_with_index.loc[data_with_index.index=='dog']\n",
    "dogs"
   ]
  },
  {
   "cell_type": "markdown",
   "metadata": {},
   "source": [
    "To find the correlation between $x$ and $y$ for a given animal, we could extract the x and y into numpy arrays, and use a tool we already know (SciPy)"
   ]
  },
  {
   "cell_type": "code",
   "execution_count": 12,
   "metadata": {
    "collapsed": false
   },
   "outputs": [
    {
     "data": {
      "text/plain": [
       "0.64853597978622946"
      ]
     },
     "execution_count": 12,
     "metadata": {},
     "output_type": "execute_result"
    }
   ],
   "source": [
    "import scipy.stats\n",
    "x, y = np.array(dogs['x']), np.array(dogs['y'])\n",
    "scipy.stats.linregress(x,y).rvalue"
   ]
  },
  {
   "cell_type": "markdown",
   "metadata": {},
   "source": [
    "We need to do this in a loop for each animal.\n",
    "\n",
    "Rather than hard-code the list of animals, we'll extract them from the data (in case a new one shows up!)"
   ]
  },
  {
   "cell_type": "code",
   "execution_count": 13,
   "metadata": {
    "collapsed": false
   },
   "outputs": [
    {
     "data": {
      "text/plain": [
       "{'cat', 'dog', 'fish'}"
      ]
     },
     "execution_count": 13,
     "metadata": {},
     "output_type": "execute_result"
    }
   ],
   "source": [
    "set(data['animal'])"
   ]
  },
  {
   "cell_type": "code",
   "execution_count": 14,
   "metadata": {
    "collapsed": false
   },
   "outputs": [
    {
     "name": "stdout",
     "output_type": "stream",
     "text": [
      "cat 0.731102162819\n",
      "dog 0.648535979786\n",
      "fish 0.849689651038\n"
     ]
    }
   ],
   "source": [
    "for animal in set(data['animal']):\n",
    "    pets = data.loc[data['animal']==animal]\n",
    "    x, y = np.array(pets['x']), np.array(pets['y'])\n",
    "    rvalue = scipy.stats.linregress(x,y).rvalue\n",
    "    print(animal, rvalue)"
   ]
  },
  {
   "cell_type": "markdown",
   "metadata": {},
   "source": [
    "Or, rather than exporting to numpy and scipy, a little reading of pandas help finds there's a built in correlation method (that can do many types of pairwise correlations)."
   ]
  },
  {
   "cell_type": "code",
   "execution_count": 15,
   "metadata": {
    "collapsed": false
   },
   "outputs": [
    {
     "data": {
      "text/html": [
       "<div>\n",
       "<table border=\"1\" class=\"dataframe\">\n",
       "  <thead>\n",
       "    <tr style=\"text-align: right;\">\n",
       "      <th></th>\n",
       "      <th>x</th>\n",
       "      <th>y</th>\n",
       "    </tr>\n",
       "  </thead>\n",
       "  <tbody>\n",
       "    <tr>\n",
       "      <th>x</th>\n",
       "      <td>1.000000</td>\n",
       "      <td>0.648536</td>\n",
       "    </tr>\n",
       "    <tr>\n",
       "      <th>y</th>\n",
       "      <td>0.648536</td>\n",
       "      <td>1.000000</td>\n",
       "    </tr>\n",
       "  </tbody>\n",
       "</table>\n",
       "</div>"
      ],
      "text/plain": [
       "          x         y\n",
       "x  1.000000  0.648536\n",
       "y  0.648536  1.000000"
      ]
     },
     "execution_count": 15,
     "metadata": {},
     "output_type": "execute_result"
    }
   ],
   "source": [
    "dogs.corr()"
   ]
  },
  {
   "cell_type": "code",
   "execution_count": 16,
   "metadata": {
    "collapsed": false
   },
   "outputs": [
    {
     "name": "stdout",
     "output_type": "stream",
     "text": [
      "cat 0.731102162819\n",
      "dog 0.648535979786\n",
      "fish 0.849689651038\n"
     ]
    }
   ],
   "source": [
    "# in a loop\n",
    "for animal in set(data['animal']):\n",
    "    pets = data.loc[data['animal']==animal]\n",
    "    print(animal, pets.corr()['x']['y'])"
   ]
  },
  {
   "cell_type": "code",
   "execution_count": null,
   "metadata": {
    "collapsed": true
   },
   "outputs": [],
   "source": []
  }
 ],
 "metadata": {
  "anaconda-cloud": {},
  "kernelspec": {
   "display_name": "Python [conda env:py3]",
   "language": "python",
   "name": "conda-env-py3-py"
  },
  "language_info": {
   "codemirror_mode": {
    "name": "ipython",
    "version": 3
   },
   "file_extension": ".py",
   "mimetype": "text/x-python",
   "name": "python",
   "nbconvert_exporter": "python",
   "pygments_lexer": "ipython3",
   "version": "3.5.2"
  }
 },
 "nbformat": 4,
 "nbformat_minor": 1
}
