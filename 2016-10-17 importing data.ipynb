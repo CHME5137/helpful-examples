{
 "cells": [
  {
   "cell_type": "code",
   "execution_count": 1,
   "metadata": {
    "collapsed": true
   },
   "outputs": [],
   "source": [
    "import csv\n"
   ]
  },
  {
   "cell_type": "code",
   "execution_count": 2,
   "metadata": {
    "collapsed": false
   },
   "outputs": [
    {
     "name": "stdout",
     "output_type": "stream",
     "text": [
      "['x', 'y', 'label']\n",
      "['0.684979263', '1.593819507', 'cat']\n",
      "['0.409951429', '1.365310826', 'dog']\n",
      "['0.226664464', '1.028430353', 'fish']\n",
      "['0.092747047', '0.337736396', 'fish']\n",
      "['0.331349145', '1.262894022', 'dog']\n",
      "['0.047258612', '0.936448337', 'cat']\n",
      "['0.003807592', '0.586285889', 'cat']\n",
      "['0.858907584', '1.597263915', 'dog']\n",
      "['0.846379448', '1.411989046', 'fish']\n",
      "['0.745123335', '1.361133561', 'fish']\n",
      "['0.055699741', '0.500666905', 'dog']\n",
      "['0.204154873', '0.718714555', 'cat']\n",
      "['0.404360631', '1.078891852', 'cat']\n",
      "['0.343639889', '0.495354244', 'dog']\n",
      "['0.455377597', '1.097028409', 'fish']\n",
      "['0.876320543', '1.529759497', 'fish']\n",
      "['0.339779294', '1.035204747', 'dog']\n",
      "['0.027304271', '0.318505801', 'cat']\n",
      "['0.619397479', '1.392005454', 'cat']\n",
      "['0.477137094', '0.647716381', 'dog']\n",
      "['0.57577939', '1.413069827', 'fish']\n",
      "['0.619649748', '0.828997924', 'fish']\n",
      "['0.447923515', '1.347443271', 'dog']\n",
      "['0.440234389', '1.20642384', 'cat']\n"
     ]
    }
   ],
   "source": [
    "with open('example.csv') as my_file:\n",
    "    my_reader = csv.reader(my_file)\n",
    "    for row in my_reader:\n",
    "        print(row)"
   ]
  },
  {
   "cell_type": "code",
   "execution_count": 3,
   "metadata": {
    "collapsed": false
   },
   "outputs": [
    {
     "data": {
      "text/plain": [
       "array(['0.684979263', '0.409951429', '0.226664464', '0.092747047',\n",
       "       '0.331349145', '0.047258612', '0.003807592', '0.858907584',\n",
       "       '0.846379448', '0.745123335', '0.055699741', '0.204154873',\n",
       "       '0.404360631', '0.343639889', '0.455377597', '0.876320543',\n",
       "       '0.339779294', '0.027304271', '0.619397479', '0.477137094',\n",
       "       '0.57577939', '0.619649748', '0.447923515', '0.440234389'], \n",
       "      dtype='<U11')"
      ]
     },
     "execution_count": 3,
     "metadata": {},
     "output_type": "execute_result"
    }
   ],
   "source": [
    "import numpy\n",
    "x = []\n",
    "y = []\n",
    "with open('example.csv') as my_file:\n",
    "    my_reader = csv.reader(my_file)\n",
    "    for row in my_reader:\n",
    "        x.append(row[0])\n",
    "        y.append(row[1])\n",
    "x.pop(0) # remove the first item, which is 'x'\n",
    "y.pop(0)\n",
    "x = numpy.array(x)\n",
    "y = numpy.array(y)\n",
    "x"
   ]
  },
  {
   "cell_type": "code",
   "execution_count": 4,
   "metadata": {
    "collapsed": false
   },
   "outputs": [
    {
     "data": {
      "text/plain": [
       "[<matplotlib.lines.Line2D at 0x10d16da90>]"
      ]
     },
     "execution_count": 4,
     "metadata": {},
     "output_type": "execute_result"
    },
    {
     "data": {
      "image/png": "[encoded data removed]",
      "text/plain": [
       "<matplotlib.figure.Figure at 0x104a36358>"
      ]
     },
     "metadata": {},
     "output_type": "display_data"
    }
   ],
   "source": [
    "from matplotlib import pyplot as plt\n",
    "%matplotlib inline\n",
    "plt.plot(x,y,'.')"
   ]
  },
  {
   "cell_type": "markdown",
   "metadata": {},
   "source": [
    "Next:\n",
    "1. use csv.DictReader\n",
    "2. use numpy.loadtxt"
   ]
  },
  {
   "cell_type": "code",
   "execution_count": 5,
   "metadata": {
    "collapsed": false
   },
   "outputs": [],
   "source": [
    "import numpy as np\n",
    "data = []\n",
    "with open('example.csv', 'r') as file_in:\n",
    "    reader_in = csv.DictReader(file_in)\n",
    "    for row in reader_in:\n",
    "        data.append(row)\n",
    "        \n",
    "x = np.array([row['x'] for row in data])\n",
    "y = np.array([row['y'] for row in data])     "
   ]
  },
  {
   "cell_type": "code",
   "execution_count": 6,
   "metadata": {
    "collapsed": false
   },
   "outputs": [
    {
     "data": {
      "text/plain": [
       "array(['0.684979263', '0.409951429', '0.226664464', '0.092747047',\n",
       "       '0.331349145', '0.047258612', '0.003807592', '0.858907584',\n",
       "       '0.846379448', '0.745123335', '0.055699741', '0.204154873',\n",
       "       '0.404360631', '0.343639889', '0.455377597', '0.876320543',\n",
       "       '0.339779294', '0.027304271', '0.619397479', '0.477137094',\n",
       "       '0.57577939', '0.619649748', '0.447923515', '0.440234389'], \n",
       "      dtype='<U11')"
      ]
     },
     "execution_count": 6,
     "metadata": {},
     "output_type": "execute_result"
    }
   ],
   "source": [
    "x = []\n",
    "y = []\n",
    "with open('example.csv', 'r') as file_in:\n",
    "    reader_in = csv.DictReader(file_in)\n",
    "    for row in reader_in:\n",
    "        x.append(row['x'])\n",
    "        y.append(row['y'])\n",
    "x = np.array(x)\n",
    "y = np.array(y)\n",
    "x"
   ]
  },
  {
   "cell_type": "code",
   "execution_count": 14,
   "metadata": {
    "collapsed": false
   },
   "outputs": [
    {
     "data": {
      "text/plain": [
       "[<matplotlib.lines.Line2D at 0x10e07ecc0>]"
      ]
     },
     "execution_count": 14,
     "metadata": {},
     "output_type": "execute_result"
    },
    {
     "data": {
      "image/png": "[encoded data removed]",
      "text/plain": [
       "<matplotlib.figure.Figure at 0x10df660f0>"
      ]
     },
     "metadata": {},
     "output_type": "display_data"
    }
   ],
   "source": [
    "xy = numpy.loadtxt('example.csv', delimiter=',', skiprows=1, usecols=(0,1))\n",
    "x, y = xy.T\n",
    "plt.plot(x,y, 'co')"
   ]
  },
  {
   "cell_type": "code",
   "execution_count": 19,
   "metadata": {
    "collapsed": false
   },
   "outputs": [
    {
     "data": {
      "text/plain": [
       "array([ 0.35111308,  0.43055952,  0.26611284,  0.67461715,  0.3993385 ,\n",
       "        0.16100089,  0.46094159,  0.66444914,  0.82573846,  0.20171104,\n",
       "        0.41140986,  0.80374131,  0.96125822,  0.61506496,  0.41504314,\n",
       "        0.86110827,  0.5507422 ,  0.42409969,  0.10664099,  0.40330972,\n",
       "        0.98040793,  0.13721027,  0.67806306,  0.68255408])"
      ]
     },
     "execution_count": 19,
     "metadata": {},
     "output_type": "execute_result"
    },
    {
     "data": {
      "image/png": "[encoded data removed]",
      "text/plain": [
       "<matplotlib.figure.Figure at 0x10e1d78d0>"
      ]
     },
     "metadata": {},
     "output_type": "display_data"
    }
   ],
   "source": [
    "x, y = numpy.loadtxt('example.csv', delimiter=',', skiprows=1, usecols=(0,1), unpack=True)\n",
    "plt.plot(x,y, 'co')\n",
    "x"
   ]
  },
  {
   "cell_type": "markdown",
   "metadata": {},
   "source": [
    "Now:\n",
    "use pandas!\n"
   ]
  },
  {
   "cell_type": "code",
   "execution_count": 20,
   "metadata": {
    "collapsed": true
   },
   "outputs": [],
   "source": [
    "import pandas"
   ]
  },
  {
   "cell_type": "code",
   "execution_count": null,
   "metadata": {
    "collapsed": true
   },
   "outputs": [],
   "source": []
  }
 ],
 "metadata": {
  "anaconda-cloud": {},
  "kernelspec": {
   "display_name": "Python [conda env:py3]",
   "language": "python",
   "name": "conda-env-py3-py"
  },
  "language_info": {
   "codemirror_mode": {
    "name": "ipython",
    "version": 3
   },
   "file_extension": ".py",
   "mimetype": "text/x-python",
   "name": "python",
   "nbconvert_exporter": "python",
   "pygments_lexer": "ipython3",
   "version": "3.5.2"
  }
 },
 "nbformat": 4,
 "nbformat_minor": 1
}
